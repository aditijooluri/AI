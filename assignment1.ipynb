{
  "nbformat": 4,
  "nbformat_minor": 0,
  "metadata": {
    "colab": {
      "name": "assignment1",
      "provenance": [],
      "collapsed_sections": [],
      "authorship_tag": "ABX9TyN43RZ+ymtdcy6ERW/nkFUl",
      "include_colab_link": true
    },
    "kernelspec": {
      "name": "python3",
      "display_name": "Python 3"
    },
    "language_info": {
      "name": "python"
    }
  },
  "cells": [
    {
      "cell_type": "markdown",
      "metadata": {
        "id": "view-in-github",
        "colab_type": "text"
      },
      "source": [
        "<a href=\"https://colab.research.google.com/github/aditijooluri/AI/blob/main/assignment1.ipynb\" target=\"_parent\"><img src=\"https://colab.research.google.com/assets/colab-badge.svg\" alt=\"Open In Colab\"/></a>"
      ]
    },
    {
      "cell_type": "code",
      "metadata": {
        "colab": {
          "base_uri": "https://localhost:8080/"
        },
        "id": "g3McsPRQ2NpS",
        "outputId": "b88f7c51-7b18-400a-8db1-a8c0728a8cbc"
      },
      "source": [
        "from scipy.optimize import linprog\n",
        "obj = [-50,-120] #given objective function matrix (50x+120y)\n",
        "#inequality constraints (7000x+2000y<=700000,10x+30y<=1200,x+y<=110)\n",
        "A_ieq = [[7000,2000],[10,30],[1,1]] #inequality constraints coefficient matrix \n",
        "b_ieq = [700000,1200,110] #inequality constraints constant matrix\n",
        "boundary = [(0,float('inf')),(0,float('inf'))]  #x,y>=0\n",
        "opt = linprog(c=obj, A_ub=A_ieq, b_ub=b_ieq, A_eq=None, b_eq=None, bounds=boundary, method=\"simplex\")\n",
        "opt.x\n",
        "wheat_crop=round(opt.x[0])\n",
        "barley_crop=round(opt.x[1])\n",
        "profit=50*wheat_crop+120*barley_crop\n",
        "print('The farmer should produce wheat crop in a hectare land of',wheat_crop)\n",
        "print('The farmer should produce barley crop in a hectare land of',barley_crop)\n",
        "print('profit on the crop=',profit)"
      ],
      "execution_count": 11,
      "outputs": [
        {
          "output_type": "stream",
          "text": [
            "The farmer should produce wheat crop in a hectare land of 98\n",
            "The farmer should produce barley crop in a hectare land of 7\n",
            "profit on the crop= 5740\n"
          ],
          "name": "stdout"
        }
      ]
    }
  ]
}